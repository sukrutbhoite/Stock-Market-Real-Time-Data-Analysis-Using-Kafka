{
 "cells": [
  {
   "cell_type": "code",
   "execution_count": 8,
   "id": "5ecb5973-af54-4a16-bbb1-57273250a7c4",
   "metadata": {},
   "outputs": [],
   "source": [
    "import pandas as pd\n",
    "from kafka import KafkaConsumer\n",
    "import json\n",
    "import s3fs"
   ]
  },
  {
   "cell_type": "code",
   "execution_count": 9,
   "id": "ffa45f28-a5f1-456a-954a-49343a586c15",
   "metadata": {},
   "outputs": [],
   "source": [
    "consumer = KafkaConsumer(\"stock_market\", \n",
    "                         bootstrap_servers = [\"localhost:9092\"],\n",
    "                         value_deserializer = lambda x: json.loads(x.decode(\"utf-8\")))"
   ]
  },
  {
   "cell_type": "code",
   "execution_count": null,
   "id": "bde5cc92-3829-4170-b16f-2f1b2d2b9c97",
   "metadata": {},
   "outputs": [],
   "source": [
    "s3 = s3fs.S3FileSystem()\n",
    "\n",
    "for count, message in enumerate(consumer):\n",
    "    with s3.open(f\"s3://stock-market-kafka-project-sukrut/stock_market_{count}.json\", \"w\") as file:\n",
    "        json.dump(message.value, file)"
   ]
  },
  {
   "cell_type": "code",
   "execution_count": null,
   "id": "a001b7ec-a19a-400e-bd68-5768d723efd4",
   "metadata": {},
   "outputs": [],
   "source": []
  }
 ],
 "metadata": {
  "kernelspec": {
   "display_name": "Python [conda env:base] *",
   "language": "python",
   "name": "conda-base-py"
  },
  "language_info": {
   "codemirror_mode": {
    "name": "ipython",
    "version": 3
   },
   "file_extension": ".py",
   "mimetype": "text/x-python",
   "name": "python",
   "nbconvert_exporter": "python",
   "pygments_lexer": "ipython3",
   "version": "3.11.13"
  }
 },
 "nbformat": 4,
 "nbformat_minor": 5
}
